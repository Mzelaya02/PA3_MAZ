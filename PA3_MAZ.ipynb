{
 "cells": [
  {
   "cell_type": "markdown",
   "id": "bc4cdf70",
   "metadata": {},
   "source": [
    "# Computer Programming For the Liberal Arts"
   ]
  },
  {
   "cell_type": "markdown",
   "id": "c17ff61a",
   "metadata": {},
   "source": [
    "## Michael Zelaya "
   ]
  },
  {
   "cell_type": "markdown",
   "id": "c8e30c15",
   "metadata": {},
   "source": [
    "## Programming Assignment 3- Version 3"
   ]
  },
  {
   "cell_type": "markdown",
   "id": "38326515",
   "metadata": {},
   "source": [
    "## Spring 2023"
   ]
  },
  {
   "cell_type": "markdown",
   "id": "efcf1519",
   "metadata": {},
   "source": [
    "# A)"
   ]
  },
  {
   "cell_type": "code",
   "execution_count": 137,
   "id": "ef8bb856",
   "metadata": {},
   "outputs": [],
   "source": [
    "numbers=[99,105,301,502,240]"
   ]
  },
  {
   "cell_type": "code",
   "execution_count": 138,
   "id": "b123ce64",
   "metadata": {},
   "outputs": [
    {
     "data": {
      "text/plain": [
       "[99, 105, 301, 502, 240]"
      ]
     },
     "execution_count": 138,
     "metadata": {},
     "output_type": "execute_result"
    }
   ],
   "source": [
    "numbers"
   ]
  },
  {
   "cell_type": "code",
   "execution_count": 139,
   "id": "f70da676",
   "metadata": {},
   "outputs": [
    {
     "data": {
      "text/plain": [
       "[99, 105, 301, 502, 240, 901]"
      ]
     },
     "execution_count": 139,
     "metadata": {},
     "output_type": "execute_result"
    }
   ],
   "source": [
    "#append()- adds element at the end of the list \n",
    "numbers.append(901) \n",
    "numbers"
   ]
  },
  {
   "cell_type": "code",
   "execution_count": 140,
   "id": "80457b65",
   "metadata": {},
   "outputs": [],
   "source": [
    "numbers_2=[58,88,39,141,251,500]"
   ]
  },
  {
   "cell_type": "code",
   "execution_count": 141,
   "id": "8722b1a1",
   "metadata": {},
   "outputs": [
    {
     "data": {
      "text/plain": [
       "[58, 88, 39, 141, 251, 500]"
      ]
     },
     "execution_count": 141,
     "metadata": {},
     "output_type": "execute_result"
    }
   ],
   "source": [
    "numbers_2"
   ]
  },
  {
   "cell_type": "code",
   "execution_count": 142,
   "id": "845f4ebb",
   "metadata": {},
   "outputs": [
    {
     "name": "stdout",
     "output_type": "stream",
     "text": [
      "List after extend(): [99, 105, 301, 502, 240, 901, 58, 88, 39, 141, 251, 500]\n"
     ]
    }
   ],
   "source": [
    "#extend()- adds a list of elements at the end of the list \n",
    "numbers.extend(numbers_2)\n",
    "print('List after extend():', numbers)"
   ]
  },
  {
   "cell_type": "code",
   "execution_count": 143,
   "id": "27adae8a",
   "metadata": {},
   "outputs": [
    {
     "name": "stdout",
     "output_type": "stream",
     "text": [
      "[58, 88, 39, 141, 251, 1, 500]\n"
     ]
    }
   ],
   "source": [
    "#insert()- index position followed by the element, adds to last part of the list\n",
    "numbers_2.insert(-1, 1)\n",
    "print(numbers_2)"
   ]
  },
  {
   "cell_type": "code",
   "execution_count": 144,
   "id": "10266292",
   "metadata": {},
   "outputs": [],
   "source": [
    "#remove()- removed the element by its number \n",
    "numbers_2.remove(39)"
   ]
  },
  {
   "cell_type": "code",
   "execution_count": 145,
   "id": "8aefe24b",
   "metadata": {},
   "outputs": [
    {
     "data": {
      "text/plain": [
       "[58, 88, 141, 251, 1, 500]"
      ]
     },
     "execution_count": 145,
     "metadata": {},
     "output_type": "execute_result"
    }
   ],
   "source": [
    "numbers_2"
   ]
  },
  {
   "cell_type": "code",
   "execution_count": 146,
   "id": "1c89c22a",
   "metadata": {},
   "outputs": [],
   "source": [
    "letters=[\"a\", \"b\", \"c\", \"b\", \"a\", \"c\", \"d\", \"b\"]"
   ]
  },
  {
   "cell_type": "code",
   "execution_count": 147,
   "id": "05b564a6",
   "metadata": {},
   "outputs": [
    {
     "name": "stdout",
     "output_type": "stream",
     "text": [
      "3\n"
     ]
    }
   ],
   "source": [
    "#count()- returns the count of how many times a given object occurs in a list \n",
    "print(letters.count(\"b\"))"
   ]
  },
  {
   "cell_type": "code",
   "execution_count": 148,
   "id": "5975e6dc",
   "metadata": {},
   "outputs": [
    {
     "data": {
      "text/plain": [
       "[58, 88, 141, 251, 1, 500]"
      ]
     },
     "execution_count": 148,
     "metadata": {},
     "output_type": "execute_result"
    }
   ],
   "source": [
    "numbers_2"
   ]
  },
  {
   "cell_type": "code",
   "execution_count": 149,
   "id": "beaa0a86",
   "metadata": {},
   "outputs": [
    {
     "data": {
      "text/plain": [
       "[141, 251]"
      ]
     },
     "execution_count": 149,
     "metadata": {},
     "output_type": "execute_result"
    }
   ],
   "source": [
    "#index()- Select sequential element from the list, last index not included\n",
    "numbers_2[2:4]"
   ]
  },
  {
   "cell_type": "code",
   "execution_count": 150,
   "id": "53e732df",
   "metadata": {},
   "outputs": [
    {
     "name": "stdout",
     "output_type": "stream",
     "text": [
      "The removed element from the list is 141\n"
     ]
    }
   ],
   "source": [
    "#pop()- removed the element by its index \n",
    "removed_element=numbers_2.pop(2)\n",
    "print(\"The removed element from the list is\", removed_element)"
   ]
  },
  {
   "cell_type": "code",
   "execution_count": 151,
   "id": "a351d399",
   "metadata": {},
   "outputs": [
    {
     "data": {
      "text/plain": [
       "[58, 88, 251, 1, 500]"
      ]
     },
     "execution_count": 151,
     "metadata": {},
     "output_type": "execute_result"
    }
   ],
   "source": [
    "numbers_2"
   ]
  },
  {
   "cell_type": "code",
   "execution_count": 152,
   "id": "d4b38acb",
   "metadata": {},
   "outputs": [
    {
     "data": {
      "text/plain": [
       "[99, 105, 301, 502, 240, 901, 58, 88, 39, 141, 251, 500]"
      ]
     },
     "execution_count": 152,
     "metadata": {},
     "output_type": "execute_result"
    }
   ],
   "source": [
    "numbers"
   ]
  },
  {
   "cell_type": "code",
   "execution_count": 153,
   "id": "d7741690",
   "metadata": {},
   "outputs": [
    {
     "name": "stdout",
     "output_type": "stream",
     "text": [
      "[39, 58, 88, 99, 105, 141, 240, 251, 301, 500, 502, 901]\n"
     ]
    }
   ],
   "source": [
    "#sorted()- elements in order from least to greatest\n",
    "numbers.sort()\n",
    "print(numbers)"
   ]
  },
  {
   "cell_type": "code",
   "execution_count": 154,
   "id": "5c5434a5",
   "metadata": {},
   "outputs": [],
   "source": [
    "my_favorite_artists=[\"Bad Bunny\", \"Aruel\", \"Becky G\"]\n",
    "\n",
    "friends_favorite_artists=my_favorite_artists[:]\n",
    "\n",
    "my_favorite_artists.append(\"Azuna\")\n",
    "friends_favorite_artists.append(\"Jack Harlow\")"
   ]
  },
  {
   "cell_type": "code",
   "execution_count": 155,
   "id": "0fe67c6d",
   "metadata": {},
   "outputs": [
    {
     "name": "stdout",
     "output_type": "stream",
     "text": [
      "My favorite artists of 2023 is ['Bad Bunny', 'Aruel', 'Becky G', 'Azuna']\n",
      "My friends favorite artists of 2023 is ['Bad Bunny', 'Aruel', 'Becky G', 'Jack Harlow']\n"
     ]
    }
   ],
   "source": [
    "#copy()- having a similar output from both list \n",
    "print(\"My favorite artists of 2023 is\", my_favorite_artists)\n",
    "print(\"My friends favorite artists of 2023 is\", friends_favorite_artists)"
   ]
  },
  {
   "cell_type": "code",
   "execution_count": 156,
   "id": "96740d49",
   "metadata": {},
   "outputs": [
    {
     "name": "stdout",
     "output_type": "stream",
     "text": [
      "[]\n"
     ]
    }
   ],
   "source": [
    "#clear()- deleting all elements from a list\n",
    "friends_favorite_artists.clear()\n",
    "print(friends_favorite_artists)"
   ]
  },
  {
   "cell_type": "code",
   "execution_count": 157,
   "id": "9454bb29",
   "metadata": {},
   "outputs": [
    {
     "data": {
      "text/plain": [
       "list"
      ]
     },
     "execution_count": 157,
     "metadata": {},
     "output_type": "execute_result"
    }
   ],
   "source": [
    "#list- stores multiple elements in a single variable\n",
    "Holidays=list()\n",
    "type(Holidays)"
   ]
  },
  {
   "cell_type": "code",
   "execution_count": 158,
   "id": "cd4c8efa",
   "metadata": {},
   "outputs": [],
   "source": [
    "Holidays.append(\"Christmas\")\n",
    "Holidays.append(\"New Years Eve\")\n",
    "Holidays.append(\"Halloween\")\n",
    "Holidays.append(\"Labor Day\")\n",
    "Holidays.append(\"Thanksgiving\")"
   ]
  },
  {
   "cell_type": "code",
   "execution_count": 159,
   "id": "6ba14632",
   "metadata": {},
   "outputs": [
    {
     "data": {
      "text/plain": [
       "['Christmas', 'New Years Eve', 'Halloween', 'Labor Day', 'Thanksgiving']"
      ]
     },
     "execution_count": 159,
     "metadata": {},
     "output_type": "execute_result"
    }
   ],
   "source": [
    "Holidays"
   ]
  },
  {
   "cell_type": "markdown",
   "id": "8c43842a",
   "metadata": {},
   "source": [
    "# B)"
   ]
  },
  {
   "cell_type": "code",
   "execution_count": 160,
   "id": "628a43f2",
   "metadata": {},
   "outputs": [
    {
     "name": "stdout",
     "output_type": "stream",
     "text": [
      "The minimum number is:  2\n",
      "The maximum number is:  701\n"
     ]
    }
   ],
   "source": [
    "#min- finds the lowest number \n",
    "#max- finds the biggest number \n",
    "numbers_1=[25,51,365,701,2,99]\n",
    "print(\"The minimum number is: \", min(numbers_1))\n",
    "print(\"The maximum number is: \", max(numbers_1))"
   ]
  },
  {
   "cell_type": "code",
   "execution_count": 161,
   "id": "c8b6e3ad",
   "metadata": {},
   "outputs": [
    {
     "data": {
      "text/plain": [
       "6"
      ]
     },
     "execution_count": 161,
     "metadata": {},
     "output_type": "execute_result"
    }
   ],
   "source": [
    "#len()- How many elements in the list, element count starts from 1\n",
    "len(numbers_1)"
   ]
  }
 ],
 "metadata": {
  "kernelspec": {
   "display_name": "Python 3 (ipykernel)",
   "language": "python",
   "name": "python3"
  },
  "language_info": {
   "codemirror_mode": {
    "name": "ipython",
    "version": 3
   },
   "file_extension": ".py",
   "mimetype": "text/x-python",
   "name": "python",
   "nbconvert_exporter": "python",
   "pygments_lexer": "ipython3",
   "version": "3.9.13"
  }
 },
 "nbformat": 4,
 "nbformat_minor": 5
}
